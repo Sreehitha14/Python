{
 "cells": [
  {
   "cell_type": "markdown",
   "metadata": {},
   "source": [
    "## Printing in Python"
   ]
  },
  {
   "cell_type": "code",
   "execution_count": 1,
   "metadata": {},
   "outputs": [
    {
     "name": "stdout",
     "output_type": "stream",
     "text": [
      "MLP\n"
     ]
    }
   ],
   "source": [
    "#General print statement\n",
    "print('MLP')"
   ]
  },
  {
   "cell_type": "code",
   "execution_count": 2,
   "metadata": {},
   "outputs": [
    {
     "name": "stdout",
     "output_type": "stream",
     "text": [
      "Machine \n",
      "Learning\n"
     ]
    }
   ],
   "source": [
    "#Printing in a new line\n",
    "print('Machine \\nLearning')"
   ]
  },
  {
   "cell_type": "code",
   "execution_count": 3,
   "metadata": {},
   "outputs": [
    {
     "name": "stdout",
     "output_type": "stream",
     "text": [
      "1-2-3\n"
     ]
    }
   ],
   "source": [
    "#Using seperator\n",
    "a = 1\n",
    "b = 2\n",
    "c = 3\n",
    "print(a, b, c ,sep = \"-\")"
   ]
  },
  {
   "cell_type": "code",
   "execution_count": 4,
   "metadata": {},
   "outputs": [
    {
     "name": "stdout",
     "output_type": "stream",
     "text": [
      "Machine@Learning\n"
     ]
    }
   ],
   "source": [
    "#Using end\n",
    "print('Machine', end = '@')\n",
    "print('Learning')"
   ]
  },
  {
   "cell_type": "code",
   "execution_count": 5,
   "metadata": {},
   "outputs": [
    {
     "name": "stdout",
     "output_type": "stream",
     "text": [
      "Machine Learning using Python\n"
     ]
    }
   ],
   "source": [
    "#Using String Concatenation\n",
    "a = \"Machine \"\n",
    "b = \"Learning \"\n",
    "c = \"Python\"\n",
    "print(a + b + \"using \" + c)"
   ]
  },
  {
   "cell_type": "code",
   "execution_count": 6,
   "metadata": {},
   "outputs": [
    {
     "name": "stdout",
     "output_type": "stream",
     "text": [
      "Floating point number : 1.23\n",
      "Integer : 1234\n",
      "String : MLP\n",
      "Raw String : 'MLP'\n",
      "Subject : Machine  Learning \n"
     ]
    }
   ],
   "source": [
    "#Using format specifiers\n",
    "print('Floating point number : %.2f' %(1.234))\n",
    "print('Integer : %d' %(1234))\n",
    "print('String : %s' %('MLP'))\n",
    "print('Raw String : %r' %('MLP'))\n",
    "print('Subject : %s %s' %(a, b))"
   ]
  },
  {
   "cell_type": "code",
   "execution_count": 7,
   "metadata": {},
   "outputs": [
    {
     "name": "stdout",
     "output_type": "stream",
     "text": [
      "Machine learning using python\n",
      "Machine learning using R\n",
      "Machine learning can be done using Python and R\n"
     ]
    }
   ],
   "source": [
    "#Using formatting\n",
    "print('Machine learning using {}'.format('python'))\n",
    "print('Machine learning using {b}'.format(a = 'Python', b = 'R'))\n",
    "print('Machine learning can be done using {a} and {b}'.format(a = 'Python', b = 'R'))"
   ]
  }
 ],
 "metadata": {
  "kernelspec": {
   "display_name": "Python 3",
   "language": "python",
   "name": "python3"
  },
  "language_info": {
   "codemirror_mode": {
    "name": "ipython",
    "version": 3
   },
   "file_extension": ".py",
   "mimetype": "text/x-python",
   "name": "python",
   "nbconvert_exporter": "python",
   "pygments_lexer": "ipython3",
   "version": "3.8.5"
  }
 },
 "nbformat": 4,
 "nbformat_minor": 4
}
